{
 "cells": [
  {
   "cell_type": "markdown",
   "metadata": {},
   "source": [
    "Import dependencies and print Tensorflow version:"
   ]
  },
  {
   "cell_type": "code",
   "execution_count": 1,
   "metadata": {},
   "outputs": [
    {
     "data": {
      "text/plain": [
       "'2.3.0'"
      ]
     },
     "execution_count": 1,
     "metadata": {},
     "output_type": "execute_result"
    }
   ],
   "source": [
    "import tensorflow as tf\n",
    "import numpy as np\n",
    "\n",
    "tf.__version__"
   ]
  },
  {
   "cell_type": "raw",
   "metadata": {},
   "source": [
    "Create a mock dataset that contains 100 299x299 black images all with the same label and has the batch size of 32:"
   ]
  },
  {
   "cell_type": "code",
   "execution_count": 2,
   "metadata": {},
   "outputs": [
    {
     "data": {
      "text/plain": [
       "<BatchDataset shapes: ((None, 299, 299, 3), (None, 10)), types: (tf.float32, tf.bool)>"
      ]
     },
     "execution_count": 2,
     "metadata": {},
     "output_type": "execute_result"
    }
   ],
   "source": [
    "INPUT_SIZE = 299\n",
    "INPUT_CHANNELS_COUNT = 3\n",
    "CLASSES_COUNT = 10\n",
    "DATASET_LENGTH = 100\n",
    "BATCH_SIZE = 32\n",
    "\n",
    "def get_empty_image(i):\n",
    "    image = tf.zeros([INPUT_SIZE, INPUT_SIZE, INPUT_CHANNELS_COUNT])\n",
    "    one_hot_label = np.zeros([CLASSES_COUNT], np.bool)\n",
    "    one_hot_label[0] = 1\n",
    "    return image, one_hot_label\n",
    "\n",
    "dataset = tf.data.Dataset.range(DATASET_LENGTH).map(get_empty_image).batch(BATCH_SIZE)\n",
    "dataset"
   ]
  },
  {
   "cell_type": "markdown",
   "metadata": {},
   "source": [
    "Load the Saved Model, disable training of its first layer (which is the Xception model) and print its summary to verify, that it is similar to the original model:"
   ]
  },
  {
   "cell_type": "code",
   "execution_count": 3,
   "metadata": {},
   "outputs": [
    {
     "name": "stdout",
     "output_type": "stream",
     "text": [
      "Model: \"sequential\"\n",
      "________________________________________________________________________________________________________________________\n",
      "Layer (type)                                          Output Shape                                    Param #           \n",
      "========================================================================================================================\n",
      "xception (Functional)                                 (None, 10, 10, 2048)                            20861480          \n",
      "________________________________________________________________________________________________________________________\n",
      "global_average_pooling2d (GlobalAveragePooling2D)     (None, 2048)                                    0                 \n",
      "________________________________________________________________________________________________________________________\n",
      "dense (Dense)                                         (None, 10)                                      20490             \n",
      "========================================================================================================================\n",
      "Total params: 20,881,970\n",
      "Trainable params: 20,490\n",
      "Non-trainable params: 20,861,480\n",
      "________________________________________________________________________________________________________________________\n"
     ]
    }
   ],
   "source": [
    "H5_SAVE_PATH = \"saved_model.h5\"\n",
    "saved_model_h5 = tf.keras.models.load_model(H5_SAVE_PATH)\n",
    "saved_model_h5.layers[0].trainable = False\n",
    "saved_model_h5.summary(line_length=120)"
   ]
  },
  {
   "cell_type": "markdown",
   "metadata": {},
   "source": [
    "Now when trying to fit the Saved Model, we will get ResourceExhaustedError (out of memory):"
   ]
  },
  {
   "cell_type": "code",
   "execution_count": 4,
   "metadata": {
    "scrolled": true
   },
   "outputs": [
    {
     "name": "stdout",
     "output_type": "stream",
     "text": [
      "4/4 [==============================] - 0s 122ms/step - loss: 1.4526\n"
     ]
    }
   ],
   "source": [
    "H5_MODEL_PROFILING_LOG=\"profiling/h5_model\"\n",
    "with tf.profiler.experimental.Profile(H5_MODEL_PROFILING_LOG):\n",
    "    saved_model_h5.fit(dataset, epochs=1)"
   ]
  },
  {
   "cell_type": "code",
   "execution_count": 5,
   "metadata": {
    "scrolled": true
   },
   "outputs": [],
   "source": [
    "# Load the TensorBoard notebook extension.\n",
    "%load_ext tensorboard"
   ]
  },
  {
   "cell_type": "code",
   "execution_count": 6,
   "metadata": {},
   "outputs": [
    {
     "data": {
      "text/html": [
       "\n",
       "      <iframe id=\"tensorboard-frame-4127256f512cb7ac\" width=\"100%\" height=\"800\" frameborder=\"0\">\n",
       "      </iframe>\n",
       "      <script>\n",
       "        (function() {\n",
       "          const frame = document.getElementById(\"tensorboard-frame-4127256f512cb7ac\");\n",
       "          const url = new URL(\"/\", window.location);\n",
       "          const port = 6011;\n",
       "          if (port) {\n",
       "            url.port = port;\n",
       "          }\n",
       "          frame.src = url;\n",
       "        })();\n",
       "      </script>\n",
       "    "
      ],
      "text/plain": [
       "<IPython.core.display.HTML object>"
      ]
     },
     "metadata": {},
     "output_type": "display_data"
    }
   ],
   "source": [
    "# Launch TensorBoard and navigate to the Profile tab to view performance profile\n",
    "%tensorboard --logdir={H5_MODEL_PROFILING_LOG}"
   ]
  }
 ],
 "metadata": {
  "kernelspec": {
   "display_name": "Python 3",
   "language": "python",
   "name": "python3"
  },
  "language_info": {
   "codemirror_mode": {
    "name": "ipython",
    "version": 3
   },
   "file_extension": ".py",
   "mimetype": "text/x-python",
   "name": "python",
   "nbconvert_exporter": "python",
   "pygments_lexer": "ipython3",
   "version": "3.7.6"
  }
 },
 "nbformat": 4,
 "nbformat_minor": 4
}
